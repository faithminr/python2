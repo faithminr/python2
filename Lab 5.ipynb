{
 "cells": [
  {
   "cell_type": "code",
   "execution_count": 11,
   "id": "29518ce4-4160-434b-b9b1-b500d80e51b0",
   "metadata": {},
   "outputs": [
    {
     "name": "stdout",
     "output_type": "stream",
     "text": [
      "Writing module1.py\n"
     ]
    }
   ],
   "source": [
    "%%writefile module1.py\n",
    "# ==========\n",
    "# module1.py\n",
    "# ==========\n",
    "def module1_function1():\n",
    "    print(\"module1_function1\")\n",
    "def module1_function2():\n",
    "    print(\"module1_function2\")"
   ]
  },
  {
   "cell_type": "code",
   "execution_count": 21,
   "id": "fa8c2b46-a073-46b3-88aa-6504e6abd09f",
   "metadata": {},
   "outputs": [
    {
     "name": "stdout",
     "output_type": "stream",
     "text": [
      "Overwriting module2.py\n"
     ]
    }
   ],
   "source": [
    "%%writefile module2.py\n",
    "# ==========\n",
    "# module2.py\n",
    "# ==========\n",
    "def module2_function1():\n",
    "    print(\"module2_function1\")\n",
    "def module2_function2():\n",
    "    print(\"module2_function2\")"
   ]
  },
  {
   "cell_type": "code",
   "execution_count": 15,
   "id": "1d530d5d-756d-47a2-991a-92e3ec0e000b",
   "metadata": {},
   "outputs": [
    {
     "name": "stdout",
     "output_type": "stream",
     "text": [
      "Writing __init__.py\n"
     ]
    }
   ],
   "source": [
    "%%writefile __init__.py\n",
    "# ===========\n",
    "# __init__.py\n",
    "# ===========\n",
    "from mypackage.module1 import *\n",
    "from mypackage.module2 import *"
   ]
  },
  {
   "cell_type": "code",
   "execution_count": 17,
   "id": "51de7122-fdd8-4c16-ba9e-3fba1983390c",
   "metadata": {},
   "outputs": [
    {
     "name": "stdout",
     "output_type": "stream",
     "text": [
      "Writing usemypackage.py\n"
     ]
    }
   ],
   "source": [
    "%%writefile usemypackage.py\n",
    "# ===============\n",
    "# usemypackage.py\n",
    "# ===============\n",
    "import mypackage.module1\n",
    "import mypackage.module2\n",
    "mypackage.module1_function1() # module1_function1\n",
    "mypackage.module1_function2() # module1_function2\n",
    "mypackage.module2_function1() # module2_function1\n",
    "mypackage.module2_function2() # module2_function2"
   ]
  },
  {
   "cell_type": "code",
   "execution_count": 29,
   "id": "e9eb9327-7f26-4cc4-a4bc-6aa61e899e9c",
   "metadata": {},
   "outputs": [
    {
     "ename": "IndentationError",
     "evalue": "unexpected indent (2815324089.py, line 3)",
     "output_type": "error",
     "traceback": [
      "\u001b[1;36m  Cell \u001b[1;32mIn[29], line 3\u001b[1;36m\u001b[0m\n\u001b[1;33m    module1.module1_function1()\u001b[0m\n\u001b[1;37m    ^\u001b[0m\n\u001b[1;31mIndentationError\u001b[0m\u001b[1;31m:\u001b[0m unexpected indent\n"
     ]
    }
   ],
   "source": [
    "from mypackage import module1\n",
    "\n",
    "    module1.module1_function1()\n",
    "    module1.module1_function2()"
   ]
  },
  {
   "cell_type": "code",
   "execution_count": null,
   "id": "a2c0975e-96ff-4137-8fba-a7b60946b118",
   "metadata": {},
   "outputs": [],
   "source": []
  }
 ],
 "metadata": {
  "kernelspec": {
   "display_name": "Python 3 (ipykernel)",
   "language": "python",
   "name": "python3"
  },
  "language_info": {
   "codemirror_mode": {
    "name": "ipython",
    "version": 3
   },
   "file_extension": ".py",
   "mimetype": "text/x-python",
   "name": "python",
   "nbconvert_exporter": "python",
   "pygments_lexer": "ipython3",
   "version": "3.12.4"
  }
 },
 "nbformat": 4,
 "nbformat_minor": 5
}
