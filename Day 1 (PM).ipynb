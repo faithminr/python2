{
 "cells": [
  {
   "cell_type": "code",
   "execution_count": null,
   "id": "81a5a7c4-d36c-47d9-ae18-e04af05d0e1e",
   "metadata": {},
   "outputs": [],
   "source": [
    "## Lab 3: Iterators and Generators"
   ]
  },
  {
   "cell_type": "code",
   "execution_count": 13,
   "id": "45b448e7-103e-42a7-8a90-92531e6bd3b8",
   "metadata": {},
   "outputs": [
    {
     "name": "stdout",
     "output_type": "stream",
     "text": [
      "p ***\n",
      "y ***\n",
      "t ***\n",
      "h ***\n",
      "o ***\n",
      "n ***\n"
     ]
    }
   ],
   "source": [
    "# Simple example for iterating through a string\n",
    "s = \"python\"\n",
    "for c in s:\n",
    "    print(c,\"***\")"
   ]
  },
  {
   "cell_type": "code",
   "execution_count": 15,
   "id": "43e17c85-4e59-4b80-9d27-4a19b4481757",
   "metadata": {},
   "outputs": [
    {
     "name": "stdout",
     "output_type": "stream",
     "text": [
      "1\n",
      "2\n",
      "3\n",
      "4\n",
      "5\n"
     ]
    }
   ],
   "source": [
    "list_1 = [1,2,3,4,5]\n",
    "for c in list_1:\n",
    "    print(c)"
   ]
  },
  {
   "cell_type": "code",
   "execution_count": 17,
   "id": "bdabb6d7-0d20-46e0-8b6c-5265af78eb99",
   "metadata": {},
   "outputs": [
    {
     "data": {
      "text/plain": [
       "2"
      ]
     },
     "execution_count": 17,
     "metadata": {},
     "output_type": "execute_result"
    }
   ],
   "source": [
    "list_1[1]"
   ]
  },
  {
   "cell_type": "code",
   "execution_count": 25,
   "id": "07995233-2a48-4528-b1f8-41220f04d560",
   "metadata": {},
   "outputs": [
    {
     "name": "stdout",
     "output_type": "stream",
     "text": [
      "['Apple', 'Banana', 'Coconut', 'Durian']\n",
      "<class 'list'>\n",
      "Apple <class 'str'>\n",
      "Banana <class 'str'>\n",
      "Coconut <class 'str'>\n",
      "Durian <class 'str'>\n"
     ]
    }
   ],
   "source": [
    "fruits = [\"Apple\",\"Banana\",\"Coconut\",\"Durian\"]\n",
    "print(fruits)\n",
    "print(type(fruits)) #type is a list\n",
    "\n",
    "for f in fruits:\n",
    "    print(f,type(f)) #type is a string"
   ]
  },
  {
   "cell_type": "code",
   "execution_count": 23,
   "id": "3f121db5-79dc-4557-b4e7-66b186bc67e6",
   "metadata": {},
   "outputs": [
    {
     "name": "stdout",
     "output_type": "stream",
     "text": [
      "0: Apple<class 'str'>\n",
      "1: Banana<class 'str'>\n",
      "2: Coconut<class 'str'>\n",
      "3: Durian<class 'str'>\n"
     ]
    }
   ],
   "source": [
    "for index, f in enumerate(fruits):\n",
    "    print(f\"{index}: {f}{type(f)}\")"
   ]
  },
  {
   "cell_type": "code",
   "execution_count": 33,
   "id": "7677e7cd-cfd2-4c1c-9dfa-b01fda0b6fbd",
   "metadata": {},
   "outputs": [
    {
     "name": "stdout",
     "output_type": "stream",
     "text": [
      "Apple\n",
      "Banana\n"
     ]
    }
   ],
   "source": [
    "#iter()\n",
    "f = iter(fruits)\n",
    "print(next(f))\n",
    "print(next(f))"
   ]
  },
  {
   "cell_type": "code",
   "execution_count": 44,
   "id": "7d74284e-0cdd-42e1-b0b0-be7accdb425b",
   "metadata": {},
   "outputs": [
    {
     "name": "stdout",
     "output_type": "stream",
     "text": [
      "Apple\n",
      "Banana\n",
      "Coconut\n",
      "Durian\n"
     ]
    }
   ],
   "source": [
    "f = iter(fruits)\n",
    "while True:\n",
    "    try:\n",
    "        print(next(f))\n",
    "    except:\n",
    "        break"
   ]
  },
  {
   "cell_type": "code",
   "execution_count": 1,
   "id": "eb968212-4f90-44bb-96c4-a9f0fba6fa5b",
   "metadata": {},
   "outputs": [
    {
     "name": "stdin",
     "output_type": "stream",
     "text": [
      "Which city weather to check?  Singapore\n"
     ]
    },
    {
     "name": "stdout",
     "output_type": "stream",
     "text": [
      "Weather in Singapore is 31.41 deg C\n"
     ]
    }
   ],
   "source": [
    "import json\n",
    "from urllib.request import urlopen\n",
    "\n",
    "apikey = \"2c728633938f6e03f2f168943d4efd67\"\n",
    "def get_weather(city):\n",
    "    sock = urlopen(\"http://api.openweathermap.org/data/2.5/weather?q=\"+city+\"&appid=\"+apikey)\n",
    "    result = sock.read()\n",
    "    sock.close()\n",
    "    weather = json.loads(result)\n",
    "\n",
    "    return weather[\"main\"][\"temp\"] - 273.15\n",
    "\n",
    "user_city = input(\"Which city weather to check? \")\n",
    "temperature_found = get_weather(user_city)\n",
    "\n",
    "print(f\"Weather in {user_city} is {temperature_found:.2f} deg C\")"
   ]
  },
  {
   "cell_type": "code",
   "execution_count": 3,
   "id": "594cb67d-ced4-4488-ac1a-8e158e40cfee",
   "metadata": {},
   "outputs": [
    {
     "name": "stdin",
     "output_type": "stream",
     "text": [
      "Which city's weather would you like to check?  Singapore\n"
     ]
    },
    {
     "name": "stdout",
     "output_type": "stream",
     "text": [
      "Weather in Singapore is 31.41°C with a feels like temperature of 35.20°C\n"
     ]
    }
   ],
   "source": [
    "import json\n",
    "from urllib.request import urlopen\n",
    "\n",
    "apikey = \"2c728633938f6e03f2f168943d4efd67\"\n",
    "\n",
    "def get_weather(city):\n",
    "    sock = urlopen(f\"http://api.openweathermap.org/data/2.5/weather?q={city}&appid={apikey}&units=metric\")\n",
    "    result = sock.read()\n",
    "    sock.close()\n",
    "    weather = json.loads(result)\n",
    "    temperature = weather[\"main\"][\"temp\"]\n",
    "    feels_like = weather[\"main\"][\"feels_like\"]\n",
    "    return temperature, feels_like\n",
    "\n",
    "invalid = False\n",
    "user_city = input(\"Which city's weather would you like to check? \")\n",
    "try:\n",
    "    temperature_found, feels_like_temp = get_weather(user_city)\n",
    "except:\n",
    "    invalid = True # Catch exceptions so the program can gracefully terminate\n",
    "if invalid:\n",
    "    print(\"Invalid city, please try again.\")\n",
    "else:\n",
    "    print(f\"Weather in {user_city} is {temperature_found:.2f}°C with a feels like temperature of {feels_like_temp:.2f}°C\")"
   ]
  },
  {
   "cell_type": "code",
   "execution_count": 5,
   "id": "2489a1dd-f403-4db7-8db6-1734cdfd58c3",
   "metadata": {},
   "outputs": [
    {
     "name": "stdin",
     "output_type": "stream",
     "text": [
      "Which Postal Code to check for address?  449295\n"
     ]
    },
    {
     "name": "stdout",
     "output_type": "stream",
     "text": [
      "Addresses found:\n",
      "5000N MARINE PARADE ROAD LAGOON VIEW SINGAPORE 449295\n"
     ]
    }
   ],
   "source": [
    "from urllib.request import urlopen\n",
    "import json\n",
    "\n",
    "def get_result(query):\n",
    "    # Open the URL with the query parameters\n",
    "    with urlopen(f\"https://www.onemap.gov.sg/api/common/elastic/search?searchVal={query}&returnGeom=Y&getAddrDetails=Y&pageNum=1\") as response:\n",
    "        # Read and decode the result\n",
    "        result = response.read().decode('utf-8')\n",
    "\n",
    "    # Parse the JSON response\n",
    "    address_data = json.loads(result)\n",
    "    #print(type(address_data))\n",
    "    return address_data\n",
    "\n",
    "# Get user input for the postal code\n",
    "user_query = input(\"Which Postal Code to check for address? \")\n",
    "# Fetch the result\n",
    "result = get_result(user_query)\n",
    "\n",
    "# Check if there are any results\n",
    "if 'results' in result and len(result['results']) > 0:\n",
    "    print(\"Addresses found:\")\n",
    "    # Loop through each result and print the address\n",
    "    for item in result['results']:\n",
    "        print(item['ADDRESS'])\n",
    "else:\n",
    "    print(\"No addresses found for the given postal code.\")"
   ]
  },
  {
   "cell_type": "code",
   "execution_count": 7,
   "id": "3a3696fc-f3fc-4a6a-88f4-725fda7bf92a",
   "metadata": {},
   "outputs": [
    {
     "name": "stdin",
     "output_type": "stream",
     "text": [
      "Which Postal Code to check for address?  449295\n"
     ]
    },
    {
     "name": "stdout",
     "output_type": "stream",
     "text": [
      "Addresses found:\n",
      "5000N MARINE PARADE ROAD LAGOON VIEW SINGAPORE 449295\n"
     ]
    }
   ],
   "source": [
    "# to seach through multiple pages of the url\n",
    "from urllib.request import urlopen\n",
    "import json\n",
    "\n",
    "def get_result(query, page_num=1):\n",
    "    # Open the URL with the query parameters\n",
    "    with urlopen(f\"https://www.onemap.gov.sg/api/common/elastic/search?searchVal={query}&returnGeom=Y&getAddrDetails=Y&pageNum={page_num}\") as response:\n",
    "        # Read and decode the result\n",
    "        result = response.read().decode('utf-8')\n",
    "\n",
    "    # Parse the JSON response\n",
    "    address_data = json.loads(result)\n",
    "\n",
    "    return address_data\n",
    "\n",
    "# Get user input for the postal code\n",
    "user_query = input(\"Which Postal Code to check for address? \")\n",
    "all_addresses = []\n",
    "page_num = 1\n",
    "\n",
    "while True:\n",
    "    # Fetch the result for the current page\n",
    "    result = get_result(user_query, page_num)\n",
    "\n",
    "    # Check if there are any results\n",
    "    if 'results' in result and len(result['results']) > 0:\n",
    "        # Append all addresses from the current page to the list\n",
    "        for item in result['results']:\n",
    "            all_addresses.append(item['ADDRESS'])\n",
    "        # Increment the page number for the next iteration\n",
    "        page_num += 1\n",
    "    else:\n",
    "        # No more results, break the loop\n",
    "        break\n",
    "\n",
    "if all_addresses:\n",
    "    print(\"Addresses found:\")\n",
    "    for address in all_addresses:\n",
    "        print(address)\n",
    "else:\n",
    "    print(\"No addresses found for the given postal code.\")"
   ]
  }
 ],
 "metadata": {
  "kernelspec": {
   "display_name": "Python 3 (ipykernel)",
   "language": "python",
   "name": "python3"
  },
  "language_info": {
   "codemirror_mode": {
    "name": "ipython",
    "version": 3
   },
   "file_extension": ".py",
   "mimetype": "text/x-python",
   "name": "python",
   "nbconvert_exporter": "python",
   "pygments_lexer": "ipython3",
   "version": "3.12.4"
  }
 },
 "nbformat": 4,
 "nbformat_minor": 5
}
