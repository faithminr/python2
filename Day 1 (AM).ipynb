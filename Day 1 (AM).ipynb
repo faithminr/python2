{
 "cells": [
  {
   "cell_type": "code",
   "execution_count": 3,
   "id": "1b24e5a0-f082-4d22-a8a0-43d435017909",
   "metadata": {},
   "outputs": [
    {
     "name": "stdin",
     "output_type": "stream",
     "text": [
      "Enter a number 5\n"
     ]
    },
    {
     "name": "stdout",
     "output_type": "stream",
     "text": [
      "Result square: 25.0\n"
     ]
    }
   ],
   "source": [
    "def square(n):\n",
    "    return n**2\n",
    "\n",
    "user_input = float(input(\"Enter a number\"))\n",
    "print(f\"Result square: {square(user_input)}\")"
   ]
  },
  {
   "cell_type": "code",
   "execution_count": 5,
   "id": "36e4026a-6337-473e-94cc-304344081f35",
   "metadata": {},
   "outputs": [
    {
     "data": {
      "text/plain": [
       "25"
      ]
     },
     "execution_count": 5,
     "metadata": {},
     "output_type": "execute_result"
    }
   ],
   "source": [
    "g = lambda x:x**2\n",
    "g(5)"
   ]
  },
  {
   "cell_type": "code",
   "execution_count": 7,
   "id": "c4c9dca3-8354-4e9b-811b-77cd6be52f3e",
   "metadata": {},
   "outputs": [
    {
     "data": {
      "text/plain": [
       "10"
      ]
     },
     "execution_count": 7,
     "metadata": {},
     "output_type": "execute_result"
    }
   ],
   "source": [
    "def sum(a,b):\n",
    "    return a+b\n",
    "\n",
    "sum(8,2)"
   ]
  },
  {
   "cell_type": "code",
   "execution_count": 9,
   "id": "761c09e0-5e23-4291-8b0f-02f3d3a7e410",
   "metadata": {},
   "outputs": [
    {
     "data": {
      "text/plain": [
       "10"
      ]
     },
     "execution_count": 9,
     "metadata": {},
     "output_type": "execute_result"
    }
   ],
   "source": [
    "sum2 = lambda a,b: a+b\n",
    "\n",
    "sum2(8,2)"
   ]
  },
  {
   "cell_type": "code",
   "execution_count": 11,
   "id": "b807f906-b120-458b-8e47-1c21fbc2c55d",
   "metadata": {},
   "outputs": [
    {
     "data": {
      "text/plain": [
       "12"
      ]
     },
     "execution_count": 11,
     "metadata": {},
     "output_type": "execute_result"
    }
   ],
   "source": [
    "mult = lambda a,b: a*b\n",
    "\n",
    "mult(3,4)"
   ]
  },
  {
   "cell_type": "code",
   "execution_count": 13,
   "id": "14e940af-9e6e-413a-80cc-33e1dff64839",
   "metadata": {},
   "outputs": [
    {
     "data": {
      "text/plain": [
       "[2, 4, 6, 8]"
      ]
     },
     "execution_count": 13,
     "metadata": {},
     "output_type": "execute_result"
    }
   ],
   "source": [
    "lst = [1,2,3,4,5,6,7,8,9]\n",
    "\n",
    "def even_nums(l):\n",
    "    results = []\n",
    "    for item in l:\n",
    "        if item%2==0: # this checks if remainder is 0\n",
    "            results.append(item)\n",
    "\n",
    "    return results\n",
    "\n",
    "even_nums(lst)"
   ]
  },
  {
   "cell_type": "code",
   "execution_count": 15,
   "id": "5ac30074-7767-4caf-b98d-9ebae827f323",
   "metadata": {},
   "outputs": [
    {
     "data": {
      "text/plain": [
       "[2, 4, 6, 8]"
      ]
     },
     "execution_count": 15,
     "metadata": {},
     "output_type": "execute_result"
    }
   ],
   "source": [
    "evens = filter(lambda x:x%2==0,lst)\n",
    "\n",
    "list(evens)"
   ]
  },
  {
   "cell_type": "code",
   "execution_count": 17,
   "id": "bf22bc30-4bc9-4c00-bbc2-9a0d2667928c",
   "metadata": {},
   "outputs": [
    {
     "data": {
      "text/plain": [
       "[1, 3, 5, 7, 9]"
      ]
     },
     "execution_count": 17,
     "metadata": {},
     "output_type": "execute_result"
    }
   ],
   "source": [
    "odd = filter(lambda x:x%2==1,lst)\n",
    "\n",
    "list(odd)"
   ]
  },
  {
   "cell_type": "code",
   "execution_count": 19,
   "id": "60815c98-16c8-436a-8d52-59d44cc116d7",
   "metadata": {},
   "outputs": [
    {
     "data": {
      "text/plain": [
       "[6, 7, 8, 9]"
      ]
     },
     "execution_count": 19,
     "metadata": {},
     "output_type": "execute_result"
    }
   ],
   "source": [
    "gt5 = list(filter(lambda x:x>5, lst))\n",
    "\n",
    "gt5"
   ]
  },
  {
   "cell_type": "code",
   "execution_count": 21,
   "id": "c67a17bb-679b-42f1-a5a0-edf980fc22a6",
   "metadata": {},
   "outputs": [
    {
     "data": {
      "text/plain": [
       "[6, 7, 8, 9]"
      ]
     },
     "execution_count": 21,
     "metadata": {},
     "output_type": "execute_result"
    }
   ],
   "source": [
    "def gt5(l):\n",
    "    result = []\n",
    "    for i in l:\n",
    "        if i> 5:\n",
    "            result.append(i)\n",
    "\n",
    "    return result\n",
    "gt5(lst)"
   ]
  },
  {
   "cell_type": "code",
   "execution_count": 23,
   "id": "9489fd16-e268-48d8-9118-e24485fbdf35",
   "metadata": {},
   "outputs": [
    {
     "name": "stdout",
     "output_type": "stream",
     "text": [
      "[1, 2, 3, 4, 5, 6, 7, 8, 9]\n"
     ]
    },
    {
     "data": {
      "text/plain": [
       "[1, 4, 9, 16, 25, 36, 49, 64, 81]"
      ]
     },
     "execution_count": 23,
     "metadata": {},
     "output_type": "execute_result"
    }
   ],
   "source": [
    "print(lst)\n",
    "square_list = list(map(lambda item: item**2, lst))\n",
    "# mapping function takes whatever you have and performs the function to\n",
    "# each element in the iterable\n",
    "square_list"
   ]
  },
  {
   "cell_type": "code",
   "execution_count": 25,
   "id": "bc9f410f-22c0-4ac3-9872-e74c0b46bb58",
   "metadata": {},
   "outputs": [
    {
     "data": {
      "text/plain": [
       "20"
      ]
     },
     "execution_count": 25,
     "metadata": {},
     "output_type": "execute_result"
    }
   ],
   "source": [
    "from functools import reduce\n",
    "lst2 = [2,4,6,8]\n",
    "reduce(lambda a,b: a+b, lst2) # (((2+4)+6)+8)"
   ]
  }
 ],
 "metadata": {
  "kernelspec": {
   "display_name": "Python 3 (ipykernel)",
   "language": "python",
   "name": "python3"
  },
  "language_info": {
   "codemirror_mode": {
    "name": "ipython",
    "version": 3
   },
   "file_extension": ".py",
   "mimetype": "text/x-python",
   "name": "python",
   "nbconvert_exporter": "python",
   "pygments_lexer": "ipython3",
   "version": "3.12.4"
  }
 },
 "nbformat": 4,
 "nbformat_minor": 5
}
